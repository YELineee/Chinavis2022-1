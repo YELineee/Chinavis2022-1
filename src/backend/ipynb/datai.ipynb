{
 "cells": [
  {
   "cell_type": "code",
   "execution_count": null,
   "metadata": {},
   "outputs": [],
   "source": [
    "import pandas as pd\n",
    "import networkx as nx\n"
   ]
  },
  {
   "cell_type": "code",
   "execution_count": null,
   "metadata": {},
   "outputs": [],
   "source": [
    "dataNode = pd.read_csv('../_data/Node.csv')                       \n",
    "dataLink = pd.read_csv('../_data/Link.csv')                       \n"
   ]
  },
  {
   "cell_type": "code",
   "execution_count": null,
   "metadata": {},
   "outputs": [],
   "source": [
    "associationStrength= {\"r_cert\": 4, \n",
    "                      \"r_subdomain\": 4,\n",
    "                      \"r_request_jump\":4 ,\n",
    "                      \"r_dns_a\": 4,\n",
    "                      \"r_whois_email\":3,\n",
    "                      \"r_whois_phone\":3,\n",
    "                      \"r_whois_name\":3,\n",
    "                      \"r_cert_chain\":2,\n",
    "                      \"r_cname\":2,\n",
    "                      \"r_asn\":1,\n",
    "                      \"r_cidr\":1,}\n",
    "\n",
    "dataLink['associationStrength'] = dataLink['relation'].map(associationStrength)\n",
    "\n"
   ]
  },
  {
   "cell_type": "code",
   "execution_count": null,
   "metadata": {},
   "outputs": [],
   "source": [
    "# dataLink.head(5)"
   ]
  },
  {
   "cell_type": "code",
   "execution_count": null,
   "metadata": {},
   "outputs": [],
   "source": [
    "# dataNode.head(5)"
   ]
  },
  {
   "cell_type": "code",
   "execution_count": null,
   "metadata": {},
   "outputs": [],
   "source": [
    "# sd_rows = dataNode[dataNode['id'].str.contains('Domain_c58c149eec59bb14b0c102a0f303d4c20366926b5c3206555d2937474124beb9')]\n",
    "# sd_rows"
   ]
  },
  {
   "cell_type": "code",
   "execution_count": null,
   "metadata": {},
   "outputs": [],
   "source": [
    "# sa_relation = dataLink[dataLink['source'].str.contains('Domain_f3554b666038baffa5814c319d3053ee2c2eb30d31d0ef509a1a463386b69845')]\n",
    "# sa_relation"
   ]
  },
  {
   "cell_type": "code",
   "execution_count": null,
   "metadata": {},
   "outputs": [],
   "source": [
    "\n",
    "G = nx.Graph()\n",
    "for i in range(len(dataLink)):\n",
    "    source = dataLink.loc[i, \"source\"]\n",
    "    target = dataLink.loc[i, \"target\"]\n",
    "    strength = dataLink.loc[i, \"associationStrength\"]\n",
    "    G.add_edge(source, target, weight=strength)"
   ]
  },
  {
   "cell_type": "code",
   "execution_count": null,
   "metadata": {},
   "outputs": [],
   "source": [
    "# 定义关联强度阈值\n",
    "STRONG_THRESHOLD = 4\n",
    "GENERAL_THRESHOLD = 2\n",
    "\n",
    "# 定义起始节点\n",
    "start_nodes = [\"Domain_f3554b666038baffa5814c319d3053ee2c2eb30d31d0ef509a1a463386b69845\",\n",
    "                \"Domain_c58c149eec59bb14b0c102a0f303d4c20366926b5c3206555d2937474124beb9\"]\n",
    "\n",
    "# start_nodes = [\"Domain_f3554b666038baffa5814c319d3053ee2c2eb30d31d0ef509a1a463386b69845\"]\n",
    "\n"
   ]
  },
  {
   "cell_type": "code",
   "execution_count": null,
   "metadata": {},
   "outputs": [],
   "source": [
    "G.number_of_nodes()"
   ]
  },
  {
   "cell_type": "code",
   "execution_count": null,
   "metadata": {},
   "outputs": [],
   "source": [
    "G.number_of_edges()"
   ]
  },
  {
   "cell_type": "code",
   "execution_count": null,
   "metadata": {},
   "outputs": [],
   "source": [
    "\n",
    "# 函数：根据起始节点和业务规则找到子图\n",
    "def find_subgraph(start_nodes, G, strong_threshold, general_threshold):\n",
    "    # 初始化子图\n",
    "    subgraph = nx.Graph()\n",
    "\n",
    "    # 遍历起始节点\n",
    "    for start_node in start_nodes:\n",
    "        # 3 跳以内节点\n",
    "        for neighbor in nx.neighbors(G, start_node):\n",
    "            subgraph.add_node(neighbor)\n",
    "            subgraph.add_edge(start_node, neighbor)\n",
    "            for neighbor2 in nx.neighbors(G, neighbor):\n",
    "                # 关联强度较强的边\n",
    "                if G[neighbor][neighbor2]['weight'] >= strong_threshold:\n",
    "                    subgraph.add_node(neighbor2)\n",
    "                    subgraph.add_edge(neighbor, neighbor2)\n",
    "                # 关联强度一般的边\n",
    "                elif G[neighbor][neighbor2]['weight'] >= general_threshold:\n",
    "                    subgraph.add_node(neighbor2)\n",
    "                    subgraph.add_edge(neighbor, neighbor2)\n",
    "                    # 2 跳以内节点\n",
    "                    for neighbor3 in nx.neighbors(G, neighbor2):\n",
    "                        subgraph.add_node(neighbor3)\n",
    "                        subgraph.add_edge(neighbor2, neighbor3)\n",
    "\n",
    "    # 返回子图\n",
    "    return subgraph\n",
    "\n",
    "# 找到子图\n",
    "subgraph = find_subgraph(start_nodes, G, STRONG_THRESHOLD, GENERAL_THRESHOLD)\n",
    "\n",
    "# 输出子图信息\n",
    "print(f\"子图节点数：{subgraph.number_of_nodes()}\")\n",
    "print(f\"子图边数：{subgraph.number_of_edges()}\")"
   ]
  },
  {
   "cell_type": "code",
   "execution_count": null,
   "metadata": {},
   "outputs": [],
   "source": [
    "# import json\n",
    "\n",
    "# # 将节点转换为 JSON 格式\n",
    "# nodes = []\n",
    "# for node in subgraph.nodes():\n",
    "#     nodes.append({\"id\": node})\n",
    "\n",
    "# # 将边转换为 JSON 格式\n",
    "# links = []\n",
    "# for source, target, data in subgraph.edges(data=True):\n",
    "#     links.append({\"source\": source, \"target\": target})\n",
    "\n",
    "# # 将子图转换为 JSON 格式\n",
    "# data = {\"nodes\": nodes, \"links\": links}\n",
    "\n",
    "# # 存储 JSON 文件\n",
    "# with open(\"subgraph.json\", \"w\") as f:\n",
    "#     json.dump(data, f)"
   ]
  }
 ],
 "metadata": {
  "kernelspec": {
   "display_name": "Python 3",
   "language": "python",
   "name": "python3"
  },
  "language_info": {
   "codemirror_mode": {
    "name": "ipython",
    "version": 3
   },
   "file_extension": ".py",
   "mimetype": "text/x-python",
   "name": "python",
   "nbconvert_exporter": "python",
   "pygments_lexer": "ipython3",
   "version": "3.11.8"
  }
 },
 "nbformat": 4,
 "nbformat_minor": 2
}

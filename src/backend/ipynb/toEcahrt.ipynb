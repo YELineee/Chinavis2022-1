{
 "cells": [
  {
   "cell_type": "code",
   "execution_count": 162,
   "metadata": {},
   "outputs": [],
   "source": [
    "import pandas as pd\n",
    "import json\n",
    "import re"
   ]
  },
  {
   "cell_type": "code",
   "execution_count": 163,
   "metadata": {},
   "outputs": [],
   "source": [
    "dataNode = pd.read_csv('../_data/Node.csv')                       \n",
    "dataLink = pd.read_csv('../_data/Link.csv')       "
   ]
  },
  {
   "cell_type": "code",
   "execution_count": 164,
   "metadata": {},
   "outputs": [],
   "source": [
    "def remove_symbols(text):\n",
    "   pattern = r'[^a-zA-Z0-9]'\n",
    "   return re.sub(pattern, '', text).lower()"
   ]
  },
  {
   "cell_type": "code",
   "execution_count": 297,
   "metadata": {},
   "outputs": [],
   "source": [
    "GLOBALROOT = 'CAG1'   "
   ]
  },
  {
   "cell_type": "code",
   "execution_count": 298,
   "metadata": {},
   "outputs": [],
   "source": [
    "CAGNode = pd.read_csv(f'../_data/{GLOBALROOT}/{remove_symbols(GLOBALROOT)}_node.csv') \n",
    "CAGLink = pd.read_csv(f'../_data/{GLOBALROOT}/{remove_symbols(GLOBALROOT)}_link.csv') "
   ]
  },
  {
   "cell_type": "code",
   "execution_count": 299,
   "metadata": {},
   "outputs": [
    {
     "data": {
      "text/html": [
       "<div>\n",
       "<style scoped>\n",
       "    .dataframe tbody tr th:only-of-type {\n",
       "        vertical-align: middle;\n",
       "    }\n",
       "\n",
       "    .dataframe tbody tr th {\n",
       "        vertical-align: top;\n",
       "    }\n",
       "\n",
       "    .dataframe thead th {\n",
       "        text-align: right;\n",
       "    }\n",
       "</style>\n",
       "<table border=\"1\" class=\"dataframe\">\n",
       "  <thead>\n",
       "    <tr style=\"text-align: right;\">\n",
       "      <th></th>\n",
       "      <th>relation</th>\n",
       "      <th>source</th>\n",
       "      <th>target</th>\n",
       "    </tr>\n",
       "  </thead>\n",
       "  <tbody>\n",
       "    <tr>\n",
       "      <th>0</th>\n",
       "      <td>r_subdomain</td>\n",
       "      <td>Domain_34a6231f101fdfa2b051beaa4b94d463fe5f9f4...</td>\n",
       "      <td>Domain_5052db3f33d5337ab631025f7d5de3c5ac559ed...</td>\n",
       "    </tr>\n",
       "    <tr>\n",
       "      <th>1</th>\n",
       "      <td>r_dns_a</td>\n",
       "      <td>Domain_34a6231f101fdfa2b051beaa4b94d463fe5f9f4...</td>\n",
       "      <td>IP_37f7ed5739b43757ff23c712ae4d60d16615c59c081...</td>\n",
       "    </tr>\n",
       "    <tr>\n",
       "      <th>2</th>\n",
       "      <td>r_cert</td>\n",
       "      <td>Domain_34a6231f101fdfa2b051beaa4b94d463fe5f9f4...</td>\n",
       "      <td>Cert_9ace6aae20e3ac6d9ebfae8938b91112460b27ad2...</td>\n",
       "    </tr>\n",
       "    <tr>\n",
       "      <th>3</th>\n",
       "      <td>r_dns_a</td>\n",
       "      <td>Domain_5052db3f33d5337ab631025f7d5de3c5ac559ed...</td>\n",
       "      <td>IP_37f7ed5739b43757ff23c712ae4d60d16615c59c081...</td>\n",
       "    </tr>\n",
       "    <tr>\n",
       "      <th>4</th>\n",
       "      <td>r_dns_a</td>\n",
       "      <td>Domain_32b4d5d93789d5436fe729499c7b4d311742797...</td>\n",
       "      <td>IP_37f7ed5739b43757ff23c712ae4d60d16615c59c081...</td>\n",
       "    </tr>\n",
       "  </tbody>\n",
       "</table>\n",
       "</div>"
      ],
      "text/plain": [
       "      relation                                             source   \n",
       "0  r_subdomain  Domain_34a6231f101fdfa2b051beaa4b94d463fe5f9f4...  \\\n",
       "1      r_dns_a  Domain_34a6231f101fdfa2b051beaa4b94d463fe5f9f4...   \n",
       "2       r_cert  Domain_34a6231f101fdfa2b051beaa4b94d463fe5f9f4...   \n",
       "3      r_dns_a  Domain_5052db3f33d5337ab631025f7d5de3c5ac559ed...   \n",
       "4      r_dns_a  Domain_32b4d5d93789d5436fe729499c7b4d311742797...   \n",
       "\n",
       "                                              target  \n",
       "0  Domain_5052db3f33d5337ab631025f7d5de3c5ac559ed...  \n",
       "1  IP_37f7ed5739b43757ff23c712ae4d60d16615c59c081...  \n",
       "2  Cert_9ace6aae20e3ac6d9ebfae8938b91112460b27ad2...  \n",
       "3  IP_37f7ed5739b43757ff23c712ae4d60d16615c59c081...  \n",
       "4  IP_37f7ed5739b43757ff23c712ae4d60d16615c59c081...  "
      ]
     },
     "execution_count": 299,
     "metadata": {},
     "output_type": "execute_result"
    }
   ],
   "source": [
    "dataLink.head(5)"
   ]
  },
  {
   "cell_type": "code",
   "execution_count": 300,
   "metadata": {},
   "outputs": [
    {
     "data": {
      "text/html": [
       "<div>\n",
       "<style scoped>\n",
       "    .dataframe tbody tr th:only-of-type {\n",
       "        vertical-align: middle;\n",
       "    }\n",
       "\n",
       "    .dataframe tbody tr th {\n",
       "        vertical-align: top;\n",
       "    }\n",
       "\n",
       "    .dataframe thead th {\n",
       "        text-align: right;\n",
       "    }\n",
       "</style>\n",
       "<table border=\"1\" class=\"dataframe\">\n",
       "  <thead>\n",
       "    <tr style=\"text-align: right;\">\n",
       "      <th></th>\n",
       "      <th>id</th>\n",
       "      <th>name</th>\n",
       "      <th>type</th>\n",
       "      <th>industry</th>\n",
       "    </tr>\n",
       "  </thead>\n",
       "  <tbody>\n",
       "    <tr>\n",
       "      <th>0</th>\n",
       "      <td>Domain_34a6231f101fdfa2b051beaa4b94d463fe5f9f4...</td>\n",
       "      <td>34a6231f10.com</td>\n",
       "      <td>Domain</td>\n",
       "      <td>['C', 'E', 'A', 'B']</td>\n",
       "    </tr>\n",
       "    <tr>\n",
       "      <th>1</th>\n",
       "      <td>Domain_5052db3f33d5337ab631025f7d5de3c5ac559ed...</td>\n",
       "      <td>5052db3f33.com</td>\n",
       "      <td>Domain</td>\n",
       "      <td>['C', 'E', 'A', 'B']</td>\n",
       "    </tr>\n",
       "    <tr>\n",
       "      <th>2</th>\n",
       "      <td>IP_37f7ed5739b43757ff23c712ae4d60d16615c59c081...</td>\n",
       "      <td>5.180.xxx.xxx</td>\n",
       "      <td>IP</td>\n",
       "      <td>[]</td>\n",
       "    </tr>\n",
       "    <tr>\n",
       "      <th>3</th>\n",
       "      <td>Cert_9ace6aae20e3ac6d9ebfae8938b91112460b27ad2...</td>\n",
       "      <td>9ace6aae20</td>\n",
       "      <td>Cert</td>\n",
       "      <td>[]</td>\n",
       "    </tr>\n",
       "    <tr>\n",
       "      <th>4</th>\n",
       "      <td>Domain_32b4d5d93789d5436fe729499c7b4d311742797...</td>\n",
       "      <td>32b4d5d937.com</td>\n",
       "      <td>Domain</td>\n",
       "      <td>['C', 'E', 'A', 'B']</td>\n",
       "    </tr>\n",
       "  </tbody>\n",
       "</table>\n",
       "</div>"
      ],
      "text/plain": [
       "                                                  id            name    type   \n",
       "0  Domain_34a6231f101fdfa2b051beaa4b94d463fe5f9f4...  34a6231f10.com  Domain  \\\n",
       "1  Domain_5052db3f33d5337ab631025f7d5de3c5ac559ed...  5052db3f33.com  Domain   \n",
       "2  IP_37f7ed5739b43757ff23c712ae4d60d16615c59c081...   5.180.xxx.xxx      IP   \n",
       "3  Cert_9ace6aae20e3ac6d9ebfae8938b91112460b27ad2...      9ace6aae20    Cert   \n",
       "4  Domain_32b4d5d93789d5436fe729499c7b4d311742797...  32b4d5d937.com  Domain   \n",
       "\n",
       "               industry  \n",
       "0  ['C', 'E', 'A', 'B']  \n",
       "1  ['C', 'E', 'A', 'B']  \n",
       "2                    []  \n",
       "3                    []  \n",
       "4  ['C', 'E', 'A', 'B']  "
      ]
     },
     "execution_count": 300,
     "metadata": {},
     "output_type": "execute_result"
    }
   ],
   "source": [
    "dataNode.head(5)"
   ]
  },
  {
   "cell_type": "code",
   "execution_count": 301,
   "metadata": {},
   "outputs": [
    {
     "data": {
      "text/html": [
       "<div>\n",
       "<style scoped>\n",
       "    .dataframe tbody tr th:only-of-type {\n",
       "        vertical-align: middle;\n",
       "    }\n",
       "\n",
       "    .dataframe tbody tr th {\n",
       "        vertical-align: top;\n",
       "    }\n",
       "\n",
       "    .dataframe thead th {\n",
       "        text-align: right;\n",
       "    }\n",
       "</style>\n",
       "<table border=\"1\" class=\"dataframe\">\n",
       "  <thead>\n",
       "    <tr style=\"text-align: right;\">\n",
       "      <th></th>\n",
       "      <th>id</th>\n",
       "    </tr>\n",
       "  </thead>\n",
       "  <tbody>\n",
       "    <tr>\n",
       "      <th>0</th>\n",
       "      <td>Domain_a2d2208c5348b93e3ddc90439ae6c7eda49cde8...</td>\n",
       "    </tr>\n",
       "    <tr>\n",
       "      <th>1</th>\n",
       "      <td>IP_86d674eeb343174e4539a238082511242e11acee691...</td>\n",
       "    </tr>\n",
       "    <tr>\n",
       "      <th>2</th>\n",
       "      <td>Domain_e5e34ad079fa8e284b47409407dde50949da066...</td>\n",
       "    </tr>\n",
       "    <tr>\n",
       "      <th>3</th>\n",
       "      <td>Whois_Name_db0925a5aeb1849fa7b41f7a29c1192d38e...</td>\n",
       "    </tr>\n",
       "    <tr>\n",
       "      <th>4</th>\n",
       "      <td>Whois_Email_5a3d16b7df3d815d5f3436bd5dd5c5e105...</td>\n",
       "    </tr>\n",
       "  </tbody>\n",
       "</table>\n",
       "</div>"
      ],
      "text/plain": [
       "                                                  id\n",
       "0  Domain_a2d2208c5348b93e3ddc90439ae6c7eda49cde8...\n",
       "1  IP_86d674eeb343174e4539a238082511242e11acee691...\n",
       "2  Domain_e5e34ad079fa8e284b47409407dde50949da066...\n",
       "3  Whois_Name_db0925a5aeb1849fa7b41f7a29c1192d38e...\n",
       "4  Whois_Email_5a3d16b7df3d815d5f3436bd5dd5c5e105..."
      ]
     },
     "execution_count": 301,
     "metadata": {},
     "output_type": "execute_result"
    }
   ],
   "source": [
    "CAGNode.head(5)"
   ]
  },
  {
   "cell_type": "code",
   "execution_count": 302,
   "metadata": {},
   "outputs": [
    {
     "data": {
      "text/html": [
       "<div>\n",
       "<style scoped>\n",
       "    .dataframe tbody tr th:only-of-type {\n",
       "        vertical-align: middle;\n",
       "    }\n",
       "\n",
       "    .dataframe tbody tr th {\n",
       "        vertical-align: top;\n",
       "    }\n",
       "\n",
       "    .dataframe thead th {\n",
       "        text-align: right;\n",
       "    }\n",
       "</style>\n",
       "<table border=\"1\" class=\"dataframe\">\n",
       "  <thead>\n",
       "    <tr style=\"text-align: right;\">\n",
       "      <th></th>\n",
       "      <th>relation</th>\n",
       "      <th>source</th>\n",
       "      <th>target</th>\n",
       "    </tr>\n",
       "  </thead>\n",
       "  <tbody>\n",
       "    <tr>\n",
       "      <th>0</th>\n",
       "      <td>r_subdomain</td>\n",
       "      <td>Domain_a2d2208c5348b93e3ddc90439ae6c7eda49cde8...</td>\n",
       "      <td>Domain_e5e34ad079fa8e284b47409407dde50949da066...</td>\n",
       "    </tr>\n",
       "    <tr>\n",
       "      <th>1</th>\n",
       "      <td>r_dns_a</td>\n",
       "      <td>Domain_a2d2208c5348b93e3ddc90439ae6c7eda49cde8...</td>\n",
       "      <td>IP_86d674eeb343174e4539a238082511242e11acee691...</td>\n",
       "    </tr>\n",
       "    <tr>\n",
       "      <th>2</th>\n",
       "      <td>r_whois_name</td>\n",
       "      <td>Domain_a2d2208c5348b93e3ddc90439ae6c7eda49cde8...</td>\n",
       "      <td>Whois_Name_db0925a5aeb1849fa7b41f7a29c1192d38e...</td>\n",
       "    </tr>\n",
       "    <tr>\n",
       "      <th>3</th>\n",
       "      <td>r_whois_email</td>\n",
       "      <td>Domain_a2d2208c5348b93e3ddc90439ae6c7eda49cde8...</td>\n",
       "      <td>Whois_Email_5a3d16b7df3d815d5f3436bd5dd5c5e105...</td>\n",
       "    </tr>\n",
       "    <tr>\n",
       "      <th>4</th>\n",
       "      <td>r_whois_phone</td>\n",
       "      <td>Domain_a2d2208c5348b93e3ddc90439ae6c7eda49cde8...</td>\n",
       "      <td>Whois_Phone_f6974ce3fa84ae76d75b9211f3162155db...</td>\n",
       "    </tr>\n",
       "  </tbody>\n",
       "</table>\n",
       "</div>"
      ],
      "text/plain": [
       "        relation                                             source   \n",
       "0    r_subdomain  Domain_a2d2208c5348b93e3ddc90439ae6c7eda49cde8...  \\\n",
       "1        r_dns_a  Domain_a2d2208c5348b93e3ddc90439ae6c7eda49cde8...   \n",
       "2   r_whois_name  Domain_a2d2208c5348b93e3ddc90439ae6c7eda49cde8...   \n",
       "3  r_whois_email  Domain_a2d2208c5348b93e3ddc90439ae6c7eda49cde8...   \n",
       "4  r_whois_phone  Domain_a2d2208c5348b93e3ddc90439ae6c7eda49cde8...   \n",
       "\n",
       "                                              target  \n",
       "0  Domain_e5e34ad079fa8e284b47409407dde50949da066...  \n",
       "1  IP_86d674eeb343174e4539a238082511242e11acee691...  \n",
       "2  Whois_Name_db0925a5aeb1849fa7b41f7a29c1192d38e...  \n",
       "3  Whois_Email_5a3d16b7df3d815d5f3436bd5dd5c5e105...  \n",
       "4  Whois_Phone_f6974ce3fa84ae76d75b9211f3162155db...  "
      ]
     },
     "execution_count": 302,
     "metadata": {},
     "output_type": "execute_result"
    }
   ],
   "source": [
    "CAGLink.head(5)"
   ]
  },
  {
   "cell_type": "code",
   "execution_count": 303,
   "metadata": {},
   "outputs": [],
   "source": [
    "CAGNode = CAGNode.merge(dataNode[['id', 'name', 'type', 'industry']], on='id', how='left')\n"
   ]
  },
  {
   "cell_type": "code",
   "execution_count": 304,
   "metadata": {},
   "outputs": [
    {
     "data": {
      "text/html": [
       "<div>\n",
       "<style scoped>\n",
       "    .dataframe tbody tr th:only-of-type {\n",
       "        vertical-align: middle;\n",
       "    }\n",
       "\n",
       "    .dataframe tbody tr th {\n",
       "        vertical-align: top;\n",
       "    }\n",
       "\n",
       "    .dataframe thead th {\n",
       "        text-align: right;\n",
       "    }\n",
       "</style>\n",
       "<table border=\"1\" class=\"dataframe\">\n",
       "  <thead>\n",
       "    <tr style=\"text-align: right;\">\n",
       "      <th></th>\n",
       "      <th>id</th>\n",
       "      <th>name</th>\n",
       "      <th>type</th>\n",
       "      <th>industry</th>\n",
       "    </tr>\n",
       "  </thead>\n",
       "  <tbody>\n",
       "    <tr>\n",
       "      <th>0</th>\n",
       "      <td>Domain_a2d2208c5348b93e3ddc90439ae6c7eda49cde8...</td>\n",
       "      <td>a2d2208c53.com</td>\n",
       "      <td>Domain</td>\n",
       "      <td>[]</td>\n",
       "    </tr>\n",
       "    <tr>\n",
       "      <th>1</th>\n",
       "      <td>IP_86d674eeb343174e4539a238082511242e11acee691...</td>\n",
       "      <td>107.151.xxx.xxx</td>\n",
       "      <td>IP</td>\n",
       "      <td>[]</td>\n",
       "    </tr>\n",
       "    <tr>\n",
       "      <th>2</th>\n",
       "      <td>Domain_e5e34ad079fa8e284b47409407dde50949da066...</td>\n",
       "      <td>e5e34ad079.com</td>\n",
       "      <td>Domain</td>\n",
       "      <td>['A']</td>\n",
       "    </tr>\n",
       "    <tr>\n",
       "      <th>3</th>\n",
       "      <td>Whois_Name_db0925a5aeb1849fa7b41f7a29c1192d38e...</td>\n",
       "      <td>Linxxxxx Xu</td>\n",
       "      <td>Whois_Name</td>\n",
       "      <td>[]</td>\n",
       "    </tr>\n",
       "    <tr>\n",
       "      <th>4</th>\n",
       "      <td>Whois_Email_5a3d16b7df3d815d5f3436bd5dd5c5e105...</td>\n",
       "      <td>54498xxxxx@xxx.xxx</td>\n",
       "      <td>Whois_Email</td>\n",
       "      <td>[]</td>\n",
       "    </tr>\n",
       "    <tr>\n",
       "      <th>...</th>\n",
       "      <td>...</td>\n",
       "      <td>...</td>\n",
       "      <td>...</td>\n",
       "      <td>...</td>\n",
       "    </tr>\n",
       "    <tr>\n",
       "      <th>363</th>\n",
       "      <td>IP_3eaf1cbaab0043a5151adedc742273cc842aaf9da7f...</td>\n",
       "      <td>210.209.xxx.xxx</td>\n",
       "      <td>IP</td>\n",
       "      <td>[]</td>\n",
       "    </tr>\n",
       "    <tr>\n",
       "      <th>364</th>\n",
       "      <td>Domain_84b6c7a094af19be32e19ea5b0ae8344b36c00e...</td>\n",
       "      <td>84b6c7a094.com</td>\n",
       "      <td>Domain</td>\n",
       "      <td>[]</td>\n",
       "    </tr>\n",
       "    <tr>\n",
       "      <th>365</th>\n",
       "      <td>Domain_adc7c22d5f6b13e36b3b7545267be676bd8707d...</td>\n",
       "      <td>adc7c22d5f.com</td>\n",
       "      <td>Domain</td>\n",
       "      <td>[]</td>\n",
       "    </tr>\n",
       "    <tr>\n",
       "      <th>366</th>\n",
       "      <td>Domain_01bfe5b664a8772ae252c154f8bba5c3b4724db...</td>\n",
       "      <td>01bfe5b664.com</td>\n",
       "      <td>Domain</td>\n",
       "      <td>[]</td>\n",
       "    </tr>\n",
       "    <tr>\n",
       "      <th>367</th>\n",
       "      <td>Domain_0593f12a48b5ad25bbfd65b936ecb20d772a23e...</td>\n",
       "      <td>0593f12a48.com</td>\n",
       "      <td>Domain</td>\n",
       "      <td>['B']</td>\n",
       "    </tr>\n",
       "  </tbody>\n",
       "</table>\n",
       "<p>368 rows × 4 columns</p>\n",
       "</div>"
      ],
      "text/plain": [
       "                                                    id                name   \n",
       "0    Domain_a2d2208c5348b93e3ddc90439ae6c7eda49cde8...      a2d2208c53.com  \\\n",
       "1    IP_86d674eeb343174e4539a238082511242e11acee691...     107.151.xxx.xxx   \n",
       "2    Domain_e5e34ad079fa8e284b47409407dde50949da066...      e5e34ad079.com   \n",
       "3    Whois_Name_db0925a5aeb1849fa7b41f7a29c1192d38e...         Linxxxxx Xu   \n",
       "4    Whois_Email_5a3d16b7df3d815d5f3436bd5dd5c5e105...  54498xxxxx@xxx.xxx   \n",
       "..                                                 ...                 ...   \n",
       "363  IP_3eaf1cbaab0043a5151adedc742273cc842aaf9da7f...     210.209.xxx.xxx   \n",
       "364  Domain_84b6c7a094af19be32e19ea5b0ae8344b36c00e...      84b6c7a094.com   \n",
       "365  Domain_adc7c22d5f6b13e36b3b7545267be676bd8707d...      adc7c22d5f.com   \n",
       "366  Domain_01bfe5b664a8772ae252c154f8bba5c3b4724db...      01bfe5b664.com   \n",
       "367  Domain_0593f12a48b5ad25bbfd65b936ecb20d772a23e...      0593f12a48.com   \n",
       "\n",
       "            type industry  \n",
       "0         Domain       []  \n",
       "1             IP       []  \n",
       "2         Domain    ['A']  \n",
       "3     Whois_Name       []  \n",
       "4    Whois_Email       []  \n",
       "..           ...      ...  \n",
       "363           IP       []  \n",
       "364       Domain       []  \n",
       "365       Domain       []  \n",
       "366       Domain       []  \n",
       "367       Domain    ['B']  \n",
       "\n",
       "[368 rows x 4 columns]"
      ]
     },
     "execution_count": 304,
     "metadata": {},
     "output_type": "execute_result"
    }
   ],
   "source": [
    "CAGNode"
   ]
  },
  {
   "cell_type": "code",
   "execution_count": 305,
   "metadata": {},
   "outputs": [],
   "source": [
    "node_type_counts = CAGNode['type'].value_counts().reset_index()\n",
    "node_type_counts.columns = ['name', 'value']\n",
    "nodesTypeCounts = node_type_counts.to_dict(orient='records')"
   ]
  },
  {
   "cell_type": "code",
   "execution_count": 306,
   "metadata": {},
   "outputs": [],
   "source": [
    "nodes_counts = CAGNode.shape[0]\n",
    "links_counts = CAGLink.shape[0]"
   ]
  },
  {
   "cell_type": "code",
   "execution_count": 307,
   "metadata": {},
   "outputs": [
    {
     "data": {
      "text/plain": [
       "617"
      ]
     },
     "execution_count": 307,
     "metadata": {},
     "output_type": "execute_result"
    }
   ],
   "source": [
    "links_counts"
   ]
  },
  {
   "cell_type": "code",
   "execution_count": 308,
   "metadata": {},
   "outputs": [],
   "source": [
    "file_path = f'./{GLOBALROOT}/{GLOBALROOT}_mianInfo.json'\n",
    "\n",
    "with open(file_path, 'w') as f:\n",
    "   json.dump({\"nodesCounts\":nodes_counts,\n",
    "              \"linksCounts\":links_counts,\n",
    "              \"nodesTypeCounts\":nodesTypeCounts}, f, indent=3)\n"
   ]
  }
 ],
 "metadata": {
  "kernelspec": {
   "display_name": "Python 3",
   "language": "python",
   "name": "python3"
  },
  "language_info": {
   "codemirror_mode": {
    "name": "ipython",
    "version": 3
   },
   "file_extension": ".py",
   "mimetype": "text/x-python",
   "name": "python",
   "nbconvert_exporter": "python",
   "pygments_lexer": "ipython3",
   "version": "3.11.9"
  }
 },
 "nbformat": 4,
 "nbformat_minor": 2
}

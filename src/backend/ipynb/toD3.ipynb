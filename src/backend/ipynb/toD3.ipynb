{
 "cells": [
  {
   "cell_type": "code",
   "execution_count": 64,
   "metadata": {},
   "outputs": [],
   "source": [
    "import pandas as pd\n",
    "import os\n",
    "import json"
   ]
  },
  {
   "cell_type": "code",
   "execution_count": 65,
   "metadata": {},
   "outputs": [],
   "source": [
    "folder_path = \"./CAG1\"\n",
    "\n",
    "os.makedirs(folder_path, exist_ok=True)"
   ]
  },
  {
   "cell_type": "code",
   "execution_count": 66,
   "metadata": {},
   "outputs": [],
   "source": [
    "dataLink = \"../data/CAG1/cag1_link.csv\"\n",
    "dataNode = \"../data/CAG1/cag1_node.csv\""
   ]
  },
  {
   "cell_type": "code",
   "execution_count": 67,
   "metadata": {},
   "outputs": [],
   "source": [
    "df_link = pd.DataFrame(pd.read_csv(dataLink))\n",
    "df_node = pd.DataFrame( pd.read_csv(dataNode))"
   ]
  },
  {
   "cell_type": "code",
   "execution_count": 68,
   "metadata": {},
   "outputs": [
    {
     "data": {
      "text/html": [
       "<div>\n",
       "<style scoped>\n",
       "    .dataframe tbody tr th:only-of-type {\n",
       "        vertical-align: middle;\n",
       "    }\n",
       "\n",
       "    .dataframe tbody tr th {\n",
       "        vertical-align: top;\n",
       "    }\n",
       "\n",
       "    .dataframe thead th {\n",
       "        text-align: right;\n",
       "    }\n",
       "</style>\n",
       "<table border=\"1\" class=\"dataframe\">\n",
       "  <thead>\n",
       "    <tr style=\"text-align: right;\">\n",
       "      <th></th>\n",
       "      <th>relation</th>\n",
       "      <th>source</th>\n",
       "      <th>target</th>\n",
       "    </tr>\n",
       "  </thead>\n",
       "  <tbody>\n",
       "    <tr>\n",
       "      <th>0</th>\n",
       "      <td>r_subdomain</td>\n",
       "      <td>Domain_a2d2208c5348b93e3ddc90439ae6c7eda49cde8...</td>\n",
       "      <td>Domain_e5e34ad079fa8e284b47409407dde50949da066...</td>\n",
       "    </tr>\n",
       "    <tr>\n",
       "      <th>1</th>\n",
       "      <td>r_dns_a</td>\n",
       "      <td>Domain_a2d2208c5348b93e3ddc90439ae6c7eda49cde8...</td>\n",
       "      <td>IP_86d674eeb343174e4539a238082511242e11acee691...</td>\n",
       "    </tr>\n",
       "    <tr>\n",
       "      <th>2</th>\n",
       "      <td>r_whois_name</td>\n",
       "      <td>Domain_a2d2208c5348b93e3ddc90439ae6c7eda49cde8...</td>\n",
       "      <td>Whois_Name_db0925a5aeb1849fa7b41f7a29c1192d38e...</td>\n",
       "    </tr>\n",
       "    <tr>\n",
       "      <th>3</th>\n",
       "      <td>r_whois_email</td>\n",
       "      <td>Domain_a2d2208c5348b93e3ddc90439ae6c7eda49cde8...</td>\n",
       "      <td>Whois_Email_5a3d16b7df3d815d5f3436bd5dd5c5e105...</td>\n",
       "    </tr>\n",
       "    <tr>\n",
       "      <th>4</th>\n",
       "      <td>r_whois_phone</td>\n",
       "      <td>Domain_a2d2208c5348b93e3ddc90439ae6c7eda49cde8...</td>\n",
       "      <td>Whois_Phone_f6974ce3fa84ae76d75b9211f3162155db...</td>\n",
       "    </tr>\n",
       "    <tr>\n",
       "      <th>...</th>\n",
       "      <td>...</td>\n",
       "      <td>...</td>\n",
       "      <td>...</td>\n",
       "    </tr>\n",
       "    <tr>\n",
       "      <th>612</th>\n",
       "      <td>r_dns_a</td>\n",
       "      <td>Domain_930aa20043c31bd53df0a31def8f95362fcc739...</td>\n",
       "      <td>IP_8622745ba09b1b4e2c35376be2ea00903272e3be2bd...</td>\n",
       "    </tr>\n",
       "    <tr>\n",
       "      <th>613</th>\n",
       "      <td>r_dns_a</td>\n",
       "      <td>Domain_58b57e01b4632bcd9b9cc78e6a211421ce57f5c...</td>\n",
       "      <td>IP_49498de69b8b1579620c5b0a5b21be26738f1d68ae8...</td>\n",
       "    </tr>\n",
       "    <tr>\n",
       "      <th>614</th>\n",
       "      <td>r_dns_a</td>\n",
       "      <td>Domain_3381440f1182dc46a1f26736c39a9e755400f2c...</td>\n",
       "      <td>IP_5e9c7c67ebe8d16a7c644fa530f5378163399d0a5a0...</td>\n",
       "    </tr>\n",
       "    <tr>\n",
       "      <th>615</th>\n",
       "      <td>r_dns_a</td>\n",
       "      <td>Domain_befe5e247a2811d4e4e44ec2b7f44fc59a79088...</td>\n",
       "      <td>IP_491066052bb94b81de9b4805453488fe2fc4bcf04de...</td>\n",
       "    </tr>\n",
       "    <tr>\n",
       "      <th>616</th>\n",
       "      <td>r_dns_a</td>\n",
       "      <td>Domain_a5ac5bce90bba59b4fbd685fcf4cdfd54112a34...</td>\n",
       "      <td>IP_3eaf1cbaab0043a5151adedc742273cc842aaf9da7f...</td>\n",
       "    </tr>\n",
       "  </tbody>\n",
       "</table>\n",
       "<p>617 rows × 3 columns</p>\n",
       "</div>"
      ],
      "text/plain": [
       "          relation                                             source   \n",
       "0      r_subdomain  Domain_a2d2208c5348b93e3ddc90439ae6c7eda49cde8...  \\\n",
       "1          r_dns_a  Domain_a2d2208c5348b93e3ddc90439ae6c7eda49cde8...   \n",
       "2     r_whois_name  Domain_a2d2208c5348b93e3ddc90439ae6c7eda49cde8...   \n",
       "3    r_whois_email  Domain_a2d2208c5348b93e3ddc90439ae6c7eda49cde8...   \n",
       "4    r_whois_phone  Domain_a2d2208c5348b93e3ddc90439ae6c7eda49cde8...   \n",
       "..             ...                                                ...   \n",
       "612        r_dns_a  Domain_930aa20043c31bd53df0a31def8f95362fcc739...   \n",
       "613        r_dns_a  Domain_58b57e01b4632bcd9b9cc78e6a211421ce57f5c...   \n",
       "614        r_dns_a  Domain_3381440f1182dc46a1f26736c39a9e755400f2c...   \n",
       "615        r_dns_a  Domain_befe5e247a2811d4e4e44ec2b7f44fc59a79088...   \n",
       "616        r_dns_a  Domain_a5ac5bce90bba59b4fbd685fcf4cdfd54112a34...   \n",
       "\n",
       "                                                target  \n",
       "0    Domain_e5e34ad079fa8e284b47409407dde50949da066...  \n",
       "1    IP_86d674eeb343174e4539a238082511242e11acee691...  \n",
       "2    Whois_Name_db0925a5aeb1849fa7b41f7a29c1192d38e...  \n",
       "3    Whois_Email_5a3d16b7df3d815d5f3436bd5dd5c5e105...  \n",
       "4    Whois_Phone_f6974ce3fa84ae76d75b9211f3162155db...  \n",
       "..                                                 ...  \n",
       "612  IP_8622745ba09b1b4e2c35376be2ea00903272e3be2bd...  \n",
       "613  IP_49498de69b8b1579620c5b0a5b21be26738f1d68ae8...  \n",
       "614  IP_5e9c7c67ebe8d16a7c644fa530f5378163399d0a5a0...  \n",
       "615  IP_491066052bb94b81de9b4805453488fe2fc4bcf04de...  \n",
       "616  IP_3eaf1cbaab0043a5151adedc742273cc842aaf9da7f...  \n",
       "\n",
       "[617 rows x 3 columns]"
      ]
     },
     "execution_count": 68,
     "metadata": {},
     "output_type": "execute_result"
    }
   ],
   "source": [
    "df_link"
   ]
  },
  {
   "cell_type": "code",
   "execution_count": 69,
   "metadata": {},
   "outputs": [
    {
     "data": {
      "text/html": [
       "<div>\n",
       "<style scoped>\n",
       "    .dataframe tbody tr th:only-of-type {\n",
       "        vertical-align: middle;\n",
       "    }\n",
       "\n",
       "    .dataframe tbody tr th {\n",
       "        vertical-align: top;\n",
       "    }\n",
       "\n",
       "    .dataframe thead th {\n",
       "        text-align: right;\n",
       "    }\n",
       "</style>\n",
       "<table border=\"1\" class=\"dataframe\">\n",
       "  <thead>\n",
       "    <tr style=\"text-align: right;\">\n",
       "      <th></th>\n",
       "      <th>id</th>\n",
       "    </tr>\n",
       "  </thead>\n",
       "  <tbody>\n",
       "    <tr>\n",
       "      <th>0</th>\n",
       "      <td>Domain_a2d2208c5348b93e3ddc90439ae6c7eda49cde8...</td>\n",
       "    </tr>\n",
       "    <tr>\n",
       "      <th>1</th>\n",
       "      <td>IP_86d674eeb343174e4539a238082511242e11acee691...</td>\n",
       "    </tr>\n",
       "    <tr>\n",
       "      <th>2</th>\n",
       "      <td>Domain_e5e34ad079fa8e284b47409407dde50949da066...</td>\n",
       "    </tr>\n",
       "    <tr>\n",
       "      <th>3</th>\n",
       "      <td>Whois_Name_db0925a5aeb1849fa7b41f7a29c1192d38e...</td>\n",
       "    </tr>\n",
       "    <tr>\n",
       "      <th>4</th>\n",
       "      <td>Whois_Email_5a3d16b7df3d815d5f3436bd5dd5c5e105...</td>\n",
       "    </tr>\n",
       "    <tr>\n",
       "      <th>...</th>\n",
       "      <td>...</td>\n",
       "    </tr>\n",
       "    <tr>\n",
       "      <th>363</th>\n",
       "      <td>IP_3eaf1cbaab0043a5151adedc742273cc842aaf9da7f...</td>\n",
       "    </tr>\n",
       "    <tr>\n",
       "      <th>364</th>\n",
       "      <td>Domain_84b6c7a094af19be32e19ea5b0ae8344b36c00e...</td>\n",
       "    </tr>\n",
       "    <tr>\n",
       "      <th>365</th>\n",
       "      <td>Domain_adc7c22d5f6b13e36b3b7545267be676bd8707d...</td>\n",
       "    </tr>\n",
       "    <tr>\n",
       "      <th>366</th>\n",
       "      <td>Domain_01bfe5b664a8772ae252c154f8bba5c3b4724db...</td>\n",
       "    </tr>\n",
       "    <tr>\n",
       "      <th>367</th>\n",
       "      <td>Domain_0593f12a48b5ad25bbfd65b936ecb20d772a23e...</td>\n",
       "    </tr>\n",
       "  </tbody>\n",
       "</table>\n",
       "<p>368 rows × 1 columns</p>\n",
       "</div>"
      ],
      "text/plain": [
       "                                                    id\n",
       "0    Domain_a2d2208c5348b93e3ddc90439ae6c7eda49cde8...\n",
       "1    IP_86d674eeb343174e4539a238082511242e11acee691...\n",
       "2    Domain_e5e34ad079fa8e284b47409407dde50949da066...\n",
       "3    Whois_Name_db0925a5aeb1849fa7b41f7a29c1192d38e...\n",
       "4    Whois_Email_5a3d16b7df3d815d5f3436bd5dd5c5e105...\n",
       "..                                                 ...\n",
       "363  IP_3eaf1cbaab0043a5151adedc742273cc842aaf9da7f...\n",
       "364  Domain_84b6c7a094af19be32e19ea5b0ae8344b36c00e...\n",
       "365  Domain_adc7c22d5f6b13e36b3b7545267be676bd8707d...\n",
       "366  Domain_01bfe5b664a8772ae252c154f8bba5c3b4724db...\n",
       "367  Domain_0593f12a48b5ad25bbfd65b936ecb20d772a23e...\n",
       "\n",
       "[368 rows x 1 columns]"
      ]
     },
     "execution_count": 69,
     "metadata": {},
     "output_type": "execute_result"
    }
   ],
   "source": [
    "df_node"
   ]
  },
  {
   "cell_type": "code",
   "execution_count": 70,
   "metadata": {},
   "outputs": [],
   "source": [
    "df_node['attribute'] = df_node['id'].str.rsplit('_',n=1).str.get(0)\n"
   ]
  },
  {
   "cell_type": "code",
   "execution_count": 75,
   "metadata": {},
   "outputs": [
    {
     "data": {
      "text/plain": [
       "array(['r_subdomain', 'r_dns_a', 'r_whois_name', 'r_whois_email',\n",
       "       'r_whois_phone', 'r_cidr', 'r_asn', 'r_dns_cname', 'r_cert',\n",
       "       'r_request_jump', 'r_cert_chain'], dtype=object)"
      ]
     },
     "execution_count": 75,
     "metadata": {},
     "output_type": "execute_result"
    }
   ],
   "source": [
    "df_link['relation'].unique()"
   ]
  },
  {
   "cell_type": "code",
   "execution_count": 76,
   "metadata": {},
   "outputs": [],
   "source": [
    "# data_node = {\n",
    "#     \"nodes\": df_node.to_dict(orient=\"records\")\n",
    "# }\n",
    "# data_link = {\n",
    "#     \"links\": df_link.to_dict(orient=\"records\")\n",
    "# }\n",
    "\n",
    "# # Merge the dictionaries\n",
    "# data_node.update(data_link)\n",
    "\n",
    "# # Convert the dictionary to JSON\n",
    "# json_data = json.dumps(data_node)\n",
    "\n",
    "# # Write the JSON data to a file\n",
    "# with open(folder_path + \"/CAG1_D3.json\", \"w\") as file:\n",
    "#     file.write(json_data)"
   ]
  }
 ],
 "metadata": {
  "kernelspec": {
   "display_name": "Python 3",
   "language": "python",
   "name": "python3"
  },
  "language_info": {
   "codemirror_mode": {
    "name": "ipython",
    "version": 3
   },
   "file_extension": ".py",
   "mimetype": "text/x-python",
   "name": "python",
   "nbconvert_exporter": "python",
   "pygments_lexer": "ipython3",
   "version": "3.11.8"
  }
 },
 "nbformat": 4,
 "nbformat_minor": 2
}

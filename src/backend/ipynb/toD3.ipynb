{
 "cells": [
  {
   "cell_type": "code",
   "execution_count": null,
   "metadata": {},
   "outputs": [],
   "source": [
    "import pandas as pd\n",
    "import os\n",
    "import json\n",
    "import re"
   ]
  },
  {
   "cell_type": "code",
   "execution_count": null,
   "metadata": {},
   "outputs": [],
   "source": [
    "def remove_symbols(text):\n",
    "   pattern = r'[^a-zA-Z0-9]'\n",
    "   return re.sub(pattern, '', text).lower()"
   ]
  },
  {
   "cell_type": "code",
   "execution_count": null,
   "metadata": {},
   "outputs": [],
   "source": [
    "GLOBALROOT = \"./CAG5\""
   ]
  },
  {
   "cell_type": "code",
   "execution_count": null,
   "metadata": {},
   "outputs": [],
   "source": [
    "folder_path = f\"{GLOBALROOT}\"\n",
    "\n",
    "os.makedirs(folder_path, exist_ok=True)"
   ]
  },
  {
   "cell_type": "code",
   "execution_count": null,
   "metadata": {},
   "outputs": [],
   "source": [
    "dataLink = f\"../_data/{GLOBALROOT}/{remove_symbols(GLOBALROOT)}_link.csv\"\n",
    "dataNode = f\"../_data/{GLOBALROOT}/{remove_symbols(GLOBALROOT)}_node.csv\""
   ]
  },
  {
   "cell_type": "code",
   "execution_count": null,
   "metadata": {},
   "outputs": [],
   "source": [
    "df_link = pd.DataFrame(pd.read_csv(dataLink))\n",
    "df_node = pd.DataFrame( pd.read_csv(dataNode))"
   ]
  },
  {
   "cell_type": "code",
   "execution_count": null,
   "metadata": {},
   "outputs": [],
   "source": [
    "df_link"
   ]
  },
  {
   "cell_type": "code",
   "execution_count": null,
   "metadata": {},
   "outputs": [],
   "source": [
    "df_node"
   ]
  },
  {
   "cell_type": "code",
   "execution_count": null,
   "metadata": {},
   "outputs": [],
   "source": [
    "df_node['attribute'] = df_node['id'].str.rsplit('_',n=1).str.get(0)\n"
   ]
  },
  {
   "cell_type": "code",
   "execution_count": null,
   "metadata": {},
   "outputs": [],
   "source": [
    "df_link['relation'].unique()"
   ]
  },
  {
   "cell_type": "code",
   "execution_count": null,
   "metadata": {},
   "outputs": [],
   "source": [
    "data_node = {\n",
    "    \"nodes\": df_node.to_dict(orient=\"records\")\n",
    "}\n",
    "data_link = {\n",
    "    \"links\": df_link.to_dict(orient=\"records\")\n",
    "}\n",
    "\n",
    "# Merge the dictionaries\n",
    "data_node.update(data_link)\n",
    "\n",
    "# Convert the dictionary to JSON\n",
    "json_data = json.dumps(data_node)\n",
    "\n",
    "# Write the JSON data to a file\n",
    "with open( GLOBALROOT + f\"/{GLOBALROOT}_D3.json\", \"w\") as file:\n",
    "    file.write(json_data)"
   ]
  }
 ],
 "metadata": {
  "kernelspec": {
   "display_name": "Python 3",
   "language": "python",
   "name": "python3"
  },
  "language_info": {
   "codemirror_mode": {
    "name": "ipython",
    "version": 3
   },
   "file_extension": ".py",
   "mimetype": "text/x-python",
   "name": "python",
   "nbconvert_exporter": "python",
   "pygments_lexer": "ipython3",
   "version": "3.11.9"
  }
 },
 "nbformat": 4,
 "nbformat_minor": 2
}
